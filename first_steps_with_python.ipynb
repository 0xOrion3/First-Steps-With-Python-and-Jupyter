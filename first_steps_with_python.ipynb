{
  "cells": [
    {
      "cell_type": "markdown",
      "metadata": {
        "id": "GqfNeO_FEK30"
      },
      "source": [
        "# First Steps with Python and Jupyter \n",
        "\n",
        "![](https://i.imgur.com/gvSnw4A.png)\n",
        "\n",
        "\n"
      ]
    },
    {
      "cell_type": "markdown",
      "metadata": {
        "id": "nSIcF4SaEK37"
      },
      "source": [
        "This tutorial covers the following topics:\n",
        "\n",
        "* Performing arithmetic operations using Python\n",
        "* Solving multi-step problems using variables\n",
        "* Evaluating conditions using Python\n",
        "* Combining conditions with logical operators\n",
        "* Adding text styles using Markdown"
      ]
    },
    {
      "cell_type": "markdown",
      "metadata": {
        "id": "yiidFrDsEK38"
      },
      "source": [
        "### How to run the code\n",
        "\n",
        "This tutorial is an executable [Jupyter notebook](https://jupyter.org) hosted on [Jovian](https://www.jovian.ai) (don't worry if these terms seem unfamiliar; we'll learn more about them soon). You can _run_ this tutorial and experiment with the code examples in a couple of ways: *using free online resources* (recommended) or *on your computer*.\n",
        "\n",
        "#### Option 1: Running using free online resources (1-click, recommended)\n",
        "\n",
        "The easiest way to start executing the code is to click the **Run** button at the top of this page and select **Run on Binder**. You can also select \"Run on Colab\" or \"Run on Kaggle\", but you'll need to create an account on [Google Colab](https://colab.research.google.com) or [Kaggle](https://kaggle.com) to use these platforms.\n",
        "\n",
        "\n",
        "#### Option 2: Running on your computer locally\n",
        "\n",
        "To run the code on your computer locally, you'll need to set up [Python](https://www.python.org), download the notebook and install the required libraries. We recommend using the [Conda](https://docs.conda.io/projects/conda/en/latest/user-guide/install/) distribution of Python. Click the **Run** button at the top of this page, select the **Run Locally** option, and follow the instructions.\n",
        "\n",
        ">  **Jupyter Notebooks**: This tutorial is a [Jupyter notebook](https://jupyter.org) - a document made of _cells_. Each cell can contain code written in Python or explanations in plain English. You can execute code cells and view the results, e.g., numbers, messages, graphs, tables, files, etc. instantly within the notebook. Jupyter is a powerful platform for experimentation and analysis. Don't be afraid to mess around with the code & break things - you'll learn a lot by encountering and fixing errors. You can use the \"Kernel > Restart & Clear Output\" menu option to clear all outputs and start again from the top."
      ]
    },
    {
      "cell_type": "markdown",
      "metadata": {
        "id": "zEQnbBUEEK3-"
      },
      "source": [
        "## Performing Arithmetic Operations using Python\n",
        "\n",
        "Let's begin by using Python as a calculator. You can write and execute Python using a code cell within Jupyter. \n",
        "\n",
        "> **Working with cells**: To create a new cell within Jupyter, you can select \"Insert > Insert Cell Below\" from the menu bar or just press the \"+\" button on the toolbar. You can also use the keyboard shortcut `Esc+B` to create a new cell. Once a cell is created, click on it to select it. You can then change the cell type to code or markdown (text) using the \"Cell > Cell Type\" menu option. You can also use the keyboard shortcuts `Esc+Y` and `Esc+M`. Double-click a cell to edit the content within the cell. To apply your changes and run a cell, use the \"Cell > Run Cells\" menu option or click the \"Run\" button on the toolbar or just use the keyboard shortcut `Shift+Enter`. You can see a full list of keyboard shortcuts using the \"Help > Keyboard Shortcuts\" menu option.\n",
        "\n",
        "Run the code cells below to perform calculations and view their result. Try changing the numbers and run the modified cells again to see updated results. Can you guess what the `//`, `%`, and `**` operators are used for?"
      ]
    },
    {
      "cell_type": "code",
      "execution_count": 3,
      "metadata": {
        "colab": {
          "base_uri": "https://localhost:8080/"
        },
        "id": "5-irS0t6EK3_",
        "outputId": "04f4942a-3790-4b39-c18f-77675a1f43d1"
      },
      "outputs": [
        {
          "output_type": "execute_result",
          "data": {
            "text/plain": [
              "14"
            ]
          },
          "metadata": {},
          "execution_count": 3
        }
      ],
      "source": [
        "2 + 3 + 9"
      ]
    },
    {
      "cell_type": "code",
      "source": [],
      "metadata": {
        "id": "oiu9NPODF4pN"
      },
      "execution_count": null,
      "outputs": []
    },
    {
      "cell_type": "code",
      "execution_count": 4,
      "metadata": {
        "colab": {
          "base_uri": "https://localhost:8080/"
        },
        "id": "8Pik0Ag6EK4C",
        "outputId": "182bb09c-6a9a-4c14-c87c-0af900a97b86"
      },
      "outputs": [
        {
          "output_type": "execute_result",
          "data": {
            "text/plain": [
              "26"
            ]
          },
          "metadata": {},
          "execution_count": 4
        }
      ],
      "source": [
        "99 - 73"
      ]
    },
    {
      "cell_type": "code",
      "execution_count": 5,
      "metadata": {
        "scrolled": true,
        "colab": {
          "base_uri": "https://localhost:8080/"
        },
        "id": "uwXEicudEK4D",
        "outputId": "90ca05ea-f1ea-46c7-a49f-c8f00dc2ada7"
      },
      "outputs": [
        {
          "output_type": "execute_result",
          "data": {
            "text/plain": [
              "-33709.28"
            ]
          },
          "metadata": {},
          "execution_count": 5
        }
      ],
      "source": [
        "23.54 * -1432"
      ]
    },
    {
      "cell_type": "code",
      "execution_count": 6,
      "metadata": {
        "colab": {
          "base_uri": "https://localhost:8080/"
        },
        "id": "HCjIeblOEK4E",
        "outputId": "e3b86347-c25c-422d-df32-0d6e6f4dc7a6"
      },
      "outputs": [
        {
          "output_type": "execute_result",
          "data": {
            "text/plain": [
              "14.285714285714286"
            ]
          },
          "metadata": {},
          "execution_count": 6
        }
      ],
      "source": [
        "100 / 7"
      ]
    },
    {
      "cell_type": "code",
      "execution_count": 7,
      "metadata": {
        "colab": {
          "base_uri": "https://localhost:8080/"
        },
        "id": "645bosc7EK4E",
        "outputId": "4e83b959-0229-44b4-fd50-d41bd7cc0919"
      },
      "outputs": [
        {
          "output_type": "execute_result",
          "data": {
            "text/plain": [
              "14"
            ]
          },
          "metadata": {},
          "execution_count": 7
        }
      ],
      "source": [
        "100 // 7"
      ]
    },
    {
      "cell_type": "code",
      "execution_count": 8,
      "metadata": {
        "colab": {
          "base_uri": "https://localhost:8080/"
        },
        "id": "kgLNNltDEK4F",
        "outputId": "fd7e83d8-7e46-41d9-86ec-edd3b2dad0be"
      },
      "outputs": [
        {
          "output_type": "execute_result",
          "data": {
            "text/plain": [
              "2"
            ]
          },
          "metadata": {},
          "execution_count": 8
        }
      ],
      "source": [
        "100 % 7"
      ]
    },
    {
      "cell_type": "code",
      "execution_count": 9,
      "metadata": {
        "colab": {
          "base_uri": "https://localhost:8080/"
        },
        "id": "kicudQufEK4G",
        "outputId": "c72800aa-a1be-43c5-d8e2-be64f30ffedf"
      },
      "outputs": [
        {
          "output_type": "execute_result",
          "data": {
            "text/plain": [
              "125"
            ]
          },
          "metadata": {},
          "execution_count": 9
        }
      ],
      "source": [
        "5 ** 3"
      ]
    },
    {
      "cell_type": "markdown",
      "metadata": {
        "id": "D7-DjGpFEK4H"
      },
      "source": [
        "As you might expect, operators like `/` and `*` take precedence over other operators like `+` and `-` as per mathematical conventions. You can use parentheses, i.e. `(` and `)`, to specify the order in which operations are performed."
      ]
    },
    {
      "cell_type": "code",
      "execution_count": 10,
      "metadata": {
        "colab": {
          "base_uri": "https://localhost:8080/"
        },
        "id": "lheuWmHwEK4H",
        "outputId": "896e9a75-197b-4ed4-af1e-52783c2a3a95"
      },
      "outputs": [
        {
          "output_type": "execute_result",
          "data": {
            "text/plain": [
              "1.53125"
            ]
          },
          "metadata": {},
          "execution_count": 10
        }
      ],
      "source": [
        "((2 + 5) * (17 - 3)) / (4 ** 3)"
      ]
    },
    {
      "cell_type": "markdown",
      "metadata": {
        "id": "xbCNciJjEK4I"
      },
      "source": [
        "Python supports the following arithmetic operators:\n",
        "\n",
        "| Operator   | Purpose           | Example     | Result    |\n",
        "|------------|-------------------|-------------|-----------|\n",
        "| `+`        | Addition          | `2 + 3`     | `5`       |\n",
        "| `-`        | Subtraction       | `3 - 2`     | `1`       |\n",
        "| `*`        | Multiplication    | `8 * 12`    | `96`      |\n",
        "| `/`        | Division          | `100 / 7`   | `14.28..` |\n",
        "| `//`       | Floor Division    | `100 // 7`  | `14`      |    \n",
        "| `%`        | Modulus/Remainder | `100 % 7`   | `2`       |\n",
        "| `**`       | Exponent          | `5 ** 3`    | `125`     |\n",
        "\n",
        "\n",
        "Try solving some simple problems from this page:\n",
        "https://www.math-only-math.com/worksheet-on-word-problems-on-four-operations.html . \n",
        "\n",
        "You can use the empty cells below and add more cells if required."
      ]
    },
    {
      "cell_type": "code",
      "execution_count": 12,
      "metadata": {
        "colab": {
          "base_uri": "https://localhost:8080/"
        },
        "id": "smXqv6ZEEK4I",
        "outputId": "4f694ba2-e540-4a3b-c258-5c5f0b106a9f"
      },
      "outputs": [
        {
          "output_type": "execute_result",
          "data": {
            "text/plain": [
              "117578"
            ]
          },
          "metadata": {},
          "execution_count": 12
        }
      ],
      "source": [
        "men = 45312\n",
        "women = 35678\n",
        "population = 198568\n",
        "total_count = men + women\n",
        "children = population - total_count\n",
        "children\n"
      ]
    },
    {
      "cell_type": "code",
      "execution_count": 13,
      "metadata": {
        "colab": {
          "base_uri": "https://localhost:8080/"
        },
        "id": "7VmTXRz8EK4J",
        "outputId": "36e8499c-1217-41da-aca1-ba1003215b2f"
      },
      "outputs": [
        {
          "output_type": "execute_result",
          "data": {
            "text/plain": [
              "101.04166666666667"
            ]
          },
          "metadata": {},
          "execution_count": 13
        }
      ],
      "source": [
        "bop = 2425\n",
        "nop = 24\n",
        "pieb = bop / nop\n",
        "pieb"
      ]
    },
    {
      "cell_type": "code",
      "execution_count": 14,
      "metadata": {
        "colab": {
          "base_uri": "https://localhost:8080/"
        },
        "id": "OsbIHX46EK4J",
        "outputId": "90bd9e6d-1e7b-4a7f-cc4f-0c383041b147"
      },
      "outputs": [
        {
          "output_type": "execute_result",
          "data": {
            "text/plain": [
              "585"
            ]
          },
          "metadata": {},
          "execution_count": 14
        }
      ],
      "source": [
        "linda_coat = 2265\n",
        "linda_saree = 2150\n",
        "shopkeeper = 5000\n",
        "\n",
        "linda_cb = (shopkeeper - (linda_coat + linda_saree))\n",
        "linda_cb"
      ]
    },
    {
      "cell_type": "code",
      "execution_count": 16,
      "metadata": {
        "colab": {
          "base_uri": "https://localhost:8080/"
        },
        "id": "r0NyKWmtEK4J",
        "outputId": "af06e109-5cfe-42bb-f6e0-743a0e8ea380"
      },
      "outputs": [
        {
          "output_type": "execute_result",
          "data": {
            "text/plain": [
              "4564.0"
            ]
          },
          "metadata": {},
          "execution_count": 16
        }
      ],
      "source": [
        "set_total = 95844\n",
        "amt_tvs = 21\n",
        "one = set_total / amt_tvs\n",
        "one\n"
      ]
    },
    {
      "cell_type": "markdown",
      "metadata": {
        "id": "iFdO7fJdEK4K"
      },
      "source": [
        "## Solving multi-step problems using variables\n",
        "\n",
        "Let's try solving the following word problem using Python: \n",
        "\n",
        "> A grocery store sells a bag of ice for $1.25 and makes a 20% profit. If it sells 500 bags of ice, how much total profit does it make?\n",
        "\n",
        "We can list out the information provided and gradually convert the word problem into a mathematical expression that can be evaluated using Python. \n",
        "\n",
        "*Cost of ice bag ($)* = 1.25\n",
        "\n",
        "*Profit margin* = 20% = .2\n",
        "\n",
        "*Profit per bag ($)* = profit margin * cost of ice bag = .2 * 1.25\n",
        "\n",
        "*No. of bags* = 500\n",
        "\n",
        "*Total profit* = no. of bags * profit per bag = 500 * (.2 * 1.25)"
      ]
    },
    {
      "cell_type": "code",
      "execution_count": 17,
      "metadata": {
        "colab": {
          "base_uri": "https://localhost:8080/"
        },
        "id": "3n1T5ugTEK4K",
        "outputId": "2f3aae08-b80b-44fc-8f09-65ef0257ccfb"
      },
      "outputs": [
        {
          "output_type": "execute_result",
          "data": {
            "text/plain": [
              "125.0"
            ]
          },
          "metadata": {},
          "execution_count": 17
        }
      ],
      "source": [
        "500 * (.2 * 1.25)"
      ]
    },
    {
      "cell_type": "markdown",
      "metadata": {
        "id": "28LC6_bKEK4L"
      },
      "source": [
        "Thus, the grocery store makes a total profit of $125. While this is a reasonable way to solve a problem, it's not entirely clear by looking at the code cell what the numbers represent. We can give names to each of the numbers by creating Python *variables*.\n",
        "\n",
        "> **Variables**: While working with a programming language such as Python, information is stored in *variables*. You can think of variables as containers for storing data. The data stored within a variable is called its *value*."
      ]
    },
    {
      "cell_type": "code",
      "execution_count": 18,
      "metadata": {
        "id": "OdciZ9oGEK4L"
      },
      "outputs": [],
      "source": [
        "cost_of_ice_bag = 1.25"
      ]
    },
    {
      "cell_type": "code",
      "execution_count": 19,
      "metadata": {
        "id": "3FjnFuPuEK4M"
      },
      "outputs": [],
      "source": [
        "profit_margin = .2"
      ]
    },
    {
      "cell_type": "code",
      "execution_count": 20,
      "metadata": {
        "id": "Am2RL_X0EK4M"
      },
      "outputs": [],
      "source": [
        "number_of_bags = 500"
      ]
    },
    {
      "cell_type": "markdown",
      "metadata": {
        "id": "zVKhbfjJEK4M"
      },
      "source": [
        "The variables `cost_of_ice_bag`, `profit_margin`, and `number_of_bags` now contain the information provided in the word problem. We can check the value of a variable by typing its name into a cell. We can combine variables using arithmetic operations to create other variables.\n",
        "\n",
        "> **Code completion**: While typing the name of an existing variable in a code cell within Jupyter, just type the first few characters and press the `Tab` key to autocomplete the variable's name. Try typing `pro` in a code cell below and press `Tab` to autocomplete to `profit_margin`."
      ]
    },
    {
      "cell_type": "code",
      "execution_count": 21,
      "metadata": {
        "colab": {
          "base_uri": "https://localhost:8080/"
        },
        "id": "xCjkmvV_EK4N",
        "outputId": "c834f007-3dde-4d4d-c89a-03602e2e11e6"
      },
      "outputs": [
        {
          "output_type": "execute_result",
          "data": {
            "text/plain": [
              "0.2"
            ]
          },
          "metadata": {},
          "execution_count": 21
        }
      ],
      "source": [
        "profit_margin"
      ]
    },
    {
      "cell_type": "code",
      "execution_count": 22,
      "metadata": {
        "id": "6HbHQ9bREK4N"
      },
      "outputs": [],
      "source": [
        "profit_per_bag = cost_of_ice_bag * profit_margin"
      ]
    },
    {
      "cell_type": "code",
      "execution_count": 23,
      "metadata": {
        "colab": {
          "base_uri": "https://localhost:8080/"
        },
        "id": "kRcdsA5MEK4O",
        "outputId": "e346f261-3bae-49cd-fb72-bc225d4dfc0c"
      },
      "outputs": [
        {
          "output_type": "execute_result",
          "data": {
            "text/plain": [
              "0.25"
            ]
          },
          "metadata": {},
          "execution_count": 23
        }
      ],
      "source": [
        "profit_per_bag"
      ]
    },
    {
      "cell_type": "code",
      "execution_count": 24,
      "metadata": {
        "id": "aeycPhCpEK4O"
      },
      "outputs": [],
      "source": [
        "total_profit = number_of_bags * profit_per_bag"
      ]
    },
    {
      "cell_type": "code",
      "execution_count": 25,
      "metadata": {
        "colab": {
          "base_uri": "https://localhost:8080/"
        },
        "id": "oKcjQltTEK4P",
        "outputId": "4d7635bc-66d2-448b-e705-93b2470101e6"
      },
      "outputs": [
        {
          "output_type": "execute_result",
          "data": {
            "text/plain": [
              "125.0"
            ]
          },
          "metadata": {},
          "execution_count": 25
        }
      ],
      "source": [
        "total_profit"
      ]
    },
    {
      "cell_type": "code",
      "source": [],
      "metadata": {
        "id": "RX6tWJbKiMNY"
      },
      "execution_count": null,
      "outputs": []
    },
    {
      "cell_type": "markdown",
      "metadata": {
        "id": "K_zNLVVGEK4P"
      },
      "source": [
        "If you try to view the value of a variable that has not been *defined*, i.e., given a value using the assignment statement `variable_name = value`, Python shows an error."
      ]
    },
    {
      "cell_type": "code",
      "execution_count": 26,
      "metadata": {
        "colab": {
          "base_uri": "https://localhost:8080/",
          "height": 165
        },
        "id": "7k_N2MD6EK4P",
        "outputId": "c2f9d643-0b25-4290-844d-e84fd118830e"
      },
      "outputs": [
        {
          "output_type": "error",
          "ename": "NameError",
          "evalue": "ignored",
          "traceback": [
            "\u001b[0;31m---------------------------------------------------------------------------\u001b[0m",
            "\u001b[0;31mNameError\u001b[0m                                 Traceback (most recent call last)",
            "\u001b[0;32m<ipython-input-26-5eb2b296f798>\u001b[0m in \u001b[0;36m<module>\u001b[0;34m\u001b[0m\n\u001b[0;32m----> 1\u001b[0;31m \u001b[0mnet_profit\u001b[0m\u001b[0;34m\u001b[0m\u001b[0;34m\u001b[0m\u001b[0m\n\u001b[0m",
            "\u001b[0;31mNameError\u001b[0m: name 'net_profit' is not defined"
          ]
        }
      ],
      "source": [
        "net_profit"
      ]
    },
    {
      "cell_type": "markdown",
      "metadata": {
        "id": "aAqkz7drEK4Q"
      },
      "source": [
        "Storing and manipulating data using appropriately named variables is a great way to explain what your code does.\n",
        "\n",
        "Let's display the result of the word problem using a friendly message. We can do this using the `print` *function*.\n",
        "\n",
        "> **Functions**: A function is a reusable set of instructions. It takes one or more inputs, performs certain operations, and often returns an output. Python provides many in-built functions like `print` and also allows us to define our own functions."
      ]
    },
    {
      "cell_type": "code",
      "execution_count": 27,
      "metadata": {
        "colab": {
          "base_uri": "https://localhost:8080/"
        },
        "id": "-i79hTPxEK4Q",
        "outputId": "bdd874ad-9b0e-46e8-b736-0c90c7c7fd15"
      },
      "outputs": [
        {
          "output_type": "stream",
          "name": "stdout",
          "text": [
            "The grocery store makes a total profit of $ 125.0\n"
          ]
        }
      ],
      "source": [
        "print(\"The grocery store makes a total profit of $\", total_profit)"
      ]
    },
    {
      "cell_type": "markdown",
      "metadata": {
        "id": "lPKN7f9tEK4R"
      },
      "source": [
        "> **`print`**: The `print` function is used to display information. It takes one or more inputs, which can be text (within quotes, e.g., `\"this is some text\"`), numbers, variables, mathematical expressions, etc. We'll learn more about variables & functions in the next tutorial.\n",
        "\n",
        "Creating a code cell for each variable or mathematical operation can get tedious. Fortunately, Jupyter allows you to write multiple lines of code within a single code cell. The result of the last line of code within the cell is displayed as the output. \n",
        "\n",
        "Let's rewrite the solution to our word problem within a single cell."
      ]
    },
    {
      "cell_type": "code",
      "execution_count": 28,
      "metadata": {
        "colab": {
          "base_uri": "https://localhost:8080/"
        },
        "id": "xen0U_B9EK4R",
        "outputId": "f6e64e59-e390-4210-f27b-d215baf149dd"
      },
      "outputs": [
        {
          "output_type": "stream",
          "name": "stdout",
          "text": [
            "The grocery store makes a total profit of $ 125.0\n"
          ]
        }
      ],
      "source": [
        "# Store input data in variables\n",
        "cost_of_ice_bag = 1.25\n",
        "profit_margin = .2\n",
        "number_of_bags = 500\n",
        "\n",
        "# Perform the required calculations\n",
        "profit_per_bag = cost_of_ice_bag * profit_margin\n",
        "total_profit = number_of_bags * profit_per_bag\n",
        "\n",
        "# Display the result\n",
        "print(\"The grocery store makes a total profit of $\", total_profit)"
      ]
    },
    {
      "cell_type": "markdown",
      "metadata": {
        "id": "gZ3XCLWQEK4V"
      },
      "source": [
        "Note that we're using the `#` character to add *comments* within our code. \n",
        "\n",
        "> **Comments**: Comments and blank lines are ignored during execution, but they are useful for providing information to humans (including yourself) about what the code does. Comments can be inline (at the end of some code), on a separate line, or even span multiple lines. \n",
        "\n",
        "Inline and single-line comments start with `#`, whereas multi-line comments begin and end with three quotes, i.e. `\"\"\"`. Here are some examples of code comments:"
      ]
    },
    {
      "cell_type": "code",
      "execution_count": 29,
      "metadata": {
        "id": "VBJuBMH_EK4W"
      },
      "outputs": [],
      "source": [
        "my_favorite_number = 1 # an inline comment"
      ]
    },
    {
      "cell_type": "code",
      "execution_count": 30,
      "metadata": {
        "id": "nvCUuJPLEK4W"
      },
      "outputs": [],
      "source": [
        "# This comment gets its own line\n",
        "my_least_favorite_number = 3"
      ]
    },
    {
      "cell_type": "code",
      "execution_count": 31,
      "metadata": {
        "id": "FX7peeReEK4W"
      },
      "outputs": [],
      "source": [
        "\"\"\"This is a multi-line comment.\n",
        "Write as little or as much as you'd like.\n",
        "\n",
        "Comments are really helpful for people reading\n",
        "your code, but try to keep them short & to-the-point.\n",
        "\n",
        "Also, if you use good variable names, then your code is\n",
        "often self explanatory, and you may not even need comments!\n",
        "\"\"\"\n",
        "a_neutral_number = 5"
      ]
    },
    {
      "cell_type": "markdown",
      "metadata": {
        "id": "-5Xe73McEK4X"
      },
      "source": [
        "\n",
        "\n",
        "> **EXERCISE**: A travel company wants to fly a plane to the Bahamas. Flying the plane costs 5000 dollars. So far, 29 people have signed up for the trip. If the company charges 200 dollars per ticket, what is the profit made by the company? Create variables for each numeric quantity and use appropriate arithmetic operations."
      ]
    },
    {
      "cell_type": "code",
      "execution_count": 32,
      "metadata": {
        "id": "PXkaC8ZFEK4Y"
      },
      "outputs": [],
      "source": [
        "flying = 50000"
      ]
    },
    {
      "cell_type": "code",
      "execution_count": 33,
      "metadata": {
        "id": "DIggMYFrEK4Y"
      },
      "outputs": [],
      "source": [
        "signups = 29"
      ]
    },
    {
      "cell_type": "code",
      "execution_count": 34,
      "metadata": {
        "id": "y3C4ZjOKEK4Y"
      },
      "outputs": [],
      "source": [
        "ticket = 200"
      ]
    },
    {
      "cell_type": "markdown",
      "metadata": {
        "id": "jRvRjvkHEK4Y"
      },
      "source": [
        "## Evaluating conditions using Python\n",
        "\n",
        "Apart from arithmetic operations, Python also provides several operations for comparing numbers & variables.\n",
        "\n",
        "| Operator    | Description                                                     |\n",
        "|-------------|-----------------------------------------------------------------|\n",
        "| `==`        | Check if operands are equal                                     |\n",
        "| `!=`        | Check if operands are not equal                                 |\n",
        "| `>`         | Check if left operand is greater than right operand             |\n",
        "| `<`         | Check if left operand is less than right operand                |\n",
        "| `>=`        | Check if left operand is greater than or equal to right operand |\n",
        "| `<=`        | Check if left operand is less than or equal to right operand    |\n",
        "\n",
        "The result of a comparison operation is either `True` or `False` (note the uppercase `T` and `F`). These are special keywords in Python. Let's try out some experiments with comparison operators."
      ]
    },
    {
      "cell_type": "code",
      "execution_count": 35,
      "metadata": {
        "id": "7ecDrgw1EK4Z"
      },
      "outputs": [],
      "source": [
        "my_favorite_number = 1\n",
        "my_least_favorite_number = 5\n",
        "a_neutral_number = 3"
      ]
    },
    {
      "cell_type": "code",
      "execution_count": 36,
      "metadata": {
        "colab": {
          "base_uri": "https://localhost:8080/"
        },
        "id": "P48dz2idEK4Z",
        "outputId": "5fb25999-7671-41f8-ebe5-ed8c9b81ef97"
      },
      "outputs": [
        {
          "output_type": "execute_result",
          "data": {
            "text/plain": [
              "True"
            ]
          },
          "metadata": {},
          "execution_count": 36
        }
      ],
      "source": [
        "# Equality check - True\n",
        "my_favorite_number == 1"
      ]
    },
    {
      "cell_type": "code",
      "execution_count": 37,
      "metadata": {
        "colab": {
          "base_uri": "https://localhost:8080/"
        },
        "id": "Zrs8u_2UEK4b",
        "outputId": "946bbdef-5f33-4c8c-e7cf-39662fd008c9"
      },
      "outputs": [
        {
          "output_type": "execute_result",
          "data": {
            "text/plain": [
              "False"
            ]
          },
          "metadata": {},
          "execution_count": 37
        }
      ],
      "source": [
        "# Equality check - False\n",
        "my_favorite_number == my_least_favorite_number"
      ]
    },
    {
      "cell_type": "code",
      "execution_count": 38,
      "metadata": {
        "colab": {
          "base_uri": "https://localhost:8080/"
        },
        "id": "RYX91WnkEK4c",
        "outputId": "5c3e1922-a318-419e-cf50-4d9036d6fffb"
      },
      "outputs": [
        {
          "output_type": "execute_result",
          "data": {
            "text/plain": [
              "True"
            ]
          },
          "metadata": {},
          "execution_count": 38
        }
      ],
      "source": [
        "# Not equal check - True\n",
        "my_favorite_number != a_neutral_number"
      ]
    },
    {
      "cell_type": "code",
      "execution_count": 39,
      "metadata": {
        "colab": {
          "base_uri": "https://localhost:8080/"
        },
        "id": "gdMajUzQEK4c",
        "outputId": "1dcbcd8c-b8fa-4577-ce7c-242a7efb850c"
      },
      "outputs": [
        {
          "output_type": "execute_result",
          "data": {
            "text/plain": [
              "False"
            ]
          },
          "metadata": {},
          "execution_count": 39
        }
      ],
      "source": [
        "# Not equal check - False\n",
        "a_neutral_number != 3"
      ]
    },
    {
      "cell_type": "code",
      "execution_count": 40,
      "metadata": {
        "colab": {
          "base_uri": "https://localhost:8080/"
        },
        "id": "Vh8-1uLwEK4d",
        "outputId": "02e79305-0569-486e-f0d5-e724ebdb2193"
      },
      "outputs": [
        {
          "output_type": "execute_result",
          "data": {
            "text/plain": [
              "True"
            ]
          },
          "metadata": {},
          "execution_count": 40
        }
      ],
      "source": [
        "# Greater than check - True\n",
        "my_least_favorite_number > a_neutral_number"
      ]
    },
    {
      "cell_type": "code",
      "execution_count": 41,
      "metadata": {
        "colab": {
          "base_uri": "https://localhost:8080/"
        },
        "id": "IJRX63RAEK4d",
        "outputId": "56b770f3-1ad4-48b6-d8e9-5852137446a8"
      },
      "outputs": [
        {
          "output_type": "execute_result",
          "data": {
            "text/plain": [
              "False"
            ]
          },
          "metadata": {},
          "execution_count": 41
        }
      ],
      "source": [
        "# Greater than check - False\n",
        "my_favorite_number > my_least_favorite_number"
      ]
    },
    {
      "cell_type": "code",
      "execution_count": 42,
      "metadata": {
        "colab": {
          "base_uri": "https://localhost:8080/"
        },
        "id": "_CT9AMiWEK4e",
        "outputId": "7be6107f-bade-4231-c4c4-a7aaffb7dc8d"
      },
      "outputs": [
        {
          "output_type": "execute_result",
          "data": {
            "text/plain": [
              "True"
            ]
          },
          "metadata": {},
          "execution_count": 42
        }
      ],
      "source": [
        "# Less than check - True\n",
        "my_favorite_number < 10"
      ]
    },
    {
      "cell_type": "code",
      "execution_count": 43,
      "metadata": {
        "colab": {
          "base_uri": "https://localhost:8080/"
        },
        "id": "Qt25_HVBEK4e",
        "outputId": "f078da23-c624-4b87-ac24-49059a1b6adc"
      },
      "outputs": [
        {
          "output_type": "execute_result",
          "data": {
            "text/plain": [
              "False"
            ]
          },
          "metadata": {},
          "execution_count": 43
        }
      ],
      "source": [
        "# Less than check - False\n",
        "my_least_favorite_number < my_favorite_number"
      ]
    },
    {
      "cell_type": "code",
      "execution_count": 44,
      "metadata": {
        "colab": {
          "base_uri": "https://localhost:8080/"
        },
        "id": "qKS7MnG7EK4f",
        "outputId": "cff3dd1d-0578-40f2-dda5-c48b383c9afa"
      },
      "outputs": [
        {
          "output_type": "execute_result",
          "data": {
            "text/plain": [
              "True"
            ]
          },
          "metadata": {},
          "execution_count": 44
        }
      ],
      "source": [
        "# Greater than or equal check - True\n",
        "my_favorite_number >= 1"
      ]
    },
    {
      "cell_type": "code",
      "execution_count": 45,
      "metadata": {
        "colab": {
          "base_uri": "https://localhost:8080/"
        },
        "id": "Rynoowm0EK4f",
        "outputId": "b639e18a-80ac-4e09-cf1e-864065c830dd"
      },
      "outputs": [
        {
          "output_type": "execute_result",
          "data": {
            "text/plain": [
              "False"
            ]
          },
          "metadata": {},
          "execution_count": 45
        }
      ],
      "source": [
        "# Greater than or equal check - False\n",
        "my_favorite_number >= 3"
      ]
    },
    {
      "cell_type": "code",
      "execution_count": 46,
      "metadata": {
        "colab": {
          "base_uri": "https://localhost:8080/"
        },
        "id": "d2r37DjVEK4g",
        "outputId": "d7dc5028-cd79-4af4-a70e-a42ae952198d"
      },
      "outputs": [
        {
          "output_type": "execute_result",
          "data": {
            "text/plain": [
              "True"
            ]
          },
          "metadata": {},
          "execution_count": 46
        }
      ],
      "source": [
        "# Less than or equal check - True\n",
        "3 + 6 <= 9"
      ]
    },
    {
      "cell_type": "code",
      "execution_count": 47,
      "metadata": {
        "colab": {
          "base_uri": "https://localhost:8080/"
        },
        "id": "aygR-RGFEK4g",
        "outputId": "67aa43ac-10d4-4a41-c83a-ed333a135648"
      },
      "outputs": [
        {
          "output_type": "execute_result",
          "data": {
            "text/plain": [
              "False"
            ]
          },
          "metadata": {},
          "execution_count": 47
        }
      ],
      "source": [
        "# Less than or equal check - False\n",
        "my_favorite_number + a_neutral_number <= 3"
      ]
    },
    {
      "cell_type": "markdown",
      "metadata": {
        "id": "_TXwFUgUEK4h"
      },
      "source": [
        "Just like arithmetic operations, the result of a comparison operation can also be stored in a variable."
      ]
    },
    {
      "cell_type": "code",
      "execution_count": 48,
      "metadata": {
        "colab": {
          "base_uri": "https://localhost:8080/"
        },
        "id": "dsGVw341EK4h",
        "outputId": "5eae0cdb-f077-4734-c888-93c166c8b75f"
      },
      "outputs": [
        {
          "output_type": "stream",
          "name": "stdout",
          "text": [
            "Is the ice bag expensive? False\n"
          ]
        }
      ],
      "source": [
        "cost_of_ice_bag = 1.25\n",
        "is_ice_bag_expensive = cost_of_ice_bag >= 10\n",
        "print(\"Is the ice bag expensive?\", is_ice_bag_expensive)"
      ]
    },
    {
      "cell_type": "markdown",
      "metadata": {
        "id": "w0oSbg8YEK4h"
      },
      "source": [
        "## Combining conditions with logical operators\n",
        "\n",
        "The logical operators `and`, `or` and `not` operate upon conditions and `True` & `False` values (also known as *booleans*). `and` and `or` operate on two conditions, whereas `not` operates on a single condition.\n",
        "\n",
        "The `and` operator returns `True` when both the conditions evaluate to `True`. Otherwise, it returns `False`.\n",
        "\n",
        "| `a`     | `b`    | `a and b` |\n",
        "|---------|--------|-----------|\n",
        "|  `True` | `True` | `True`    |\n",
        "|  `True` | `False`| `False`   |\n",
        "|  `False`| `True` | `False`   |\n",
        "|  `False`| `False`| `False`   |\n"
      ]
    },
    {
      "cell_type": "code",
      "execution_count": 49,
      "metadata": {
        "scrolled": true,
        "colab": {
          "base_uri": "https://localhost:8080/"
        },
        "id": "hOCb0RXJEK4i",
        "outputId": "39f134ca-9cf0-4706-c627-69c8dbf4ac69"
      },
      "outputs": [
        {
          "output_type": "execute_result",
          "data": {
            "text/plain": [
              "1"
            ]
          },
          "metadata": {},
          "execution_count": 49
        }
      ],
      "source": [
        "my_favorite_number"
      ]
    },
    {
      "cell_type": "code",
      "execution_count": 50,
      "metadata": {
        "colab": {
          "base_uri": "https://localhost:8080/"
        },
        "id": "PcVmAqC2EK4i",
        "outputId": "bd6f87c8-39c3-4d1e-cc26-9e03edb7a57a"
      },
      "outputs": [
        {
          "output_type": "execute_result",
          "data": {
            "text/plain": [
              "True"
            ]
          },
          "metadata": {},
          "execution_count": 50
        }
      ],
      "source": [
        "my_favorite_number > 0 and my_favorite_number <= 3"
      ]
    },
    {
      "cell_type": "code",
      "execution_count": 51,
      "metadata": {
        "colab": {
          "base_uri": "https://localhost:8080/"
        },
        "id": "auz3s3sxEK4j",
        "outputId": "6d1bdbf2-e75d-4b65-91a3-15c3432a4228"
      },
      "outputs": [
        {
          "output_type": "execute_result",
          "data": {
            "text/plain": [
              "False"
            ]
          },
          "metadata": {},
          "execution_count": 51
        }
      ],
      "source": [
        "my_favorite_number < 0 and my_favorite_number <= 3"
      ]
    },
    {
      "cell_type": "code",
      "execution_count": 52,
      "metadata": {
        "colab": {
          "base_uri": "https://localhost:8080/"
        },
        "id": "V4v5bGWtEK4j",
        "outputId": "573e7120-9265-42af-b3f0-8a3f714248a3"
      },
      "outputs": [
        {
          "output_type": "execute_result",
          "data": {
            "text/plain": [
              "False"
            ]
          },
          "metadata": {},
          "execution_count": 52
        }
      ],
      "source": [
        "my_favorite_number > 0 and my_favorite_number >= 3"
      ]
    },
    {
      "cell_type": "code",
      "execution_count": 53,
      "metadata": {
        "colab": {
          "base_uri": "https://localhost:8080/"
        },
        "id": "orXqxJiaEK4k",
        "outputId": "3259ca6f-6be3-49bb-aa64-64bf147462b4"
      },
      "outputs": [
        {
          "output_type": "execute_result",
          "data": {
            "text/plain": [
              "False"
            ]
          },
          "metadata": {},
          "execution_count": 53
        }
      ],
      "source": [
        "True and False"
      ]
    },
    {
      "cell_type": "code",
      "execution_count": 54,
      "metadata": {
        "colab": {
          "base_uri": "https://localhost:8080/"
        },
        "id": "KIKe8FS4EK4n",
        "outputId": "1fe90d3b-8fb2-44af-cb9c-41a62ded316b"
      },
      "outputs": [
        {
          "output_type": "execute_result",
          "data": {
            "text/plain": [
              "True"
            ]
          },
          "metadata": {},
          "execution_count": 54
        }
      ],
      "source": [
        "True and True"
      ]
    },
    {
      "cell_type": "markdown",
      "metadata": {
        "id": "6ozT8qk3EK4n"
      },
      "source": [
        "The `or` operator returns `True` if at least one of the conditions evaluates to `True`. It returns `False` only if both conditions are `False`.\n",
        "\n",
        "| `a`     | `b`    | `a or b`  |\n",
        "|---------|--------|-----------|\n",
        "|  `True` | `True` | `True`    |\n",
        "|  `True` | `False`| `True`    |\n",
        "|  `False`| `True` | `True`    |\n",
        "|  `False`| `False`| `False`   |\n",
        "\n"
      ]
    },
    {
      "cell_type": "code",
      "execution_count": 55,
      "metadata": {
        "id": "gRKFeQnQEK4p"
      },
      "outputs": [],
      "source": [
        "a_neutral_number = 3"
      ]
    },
    {
      "cell_type": "code",
      "execution_count": 56,
      "metadata": {
        "colab": {
          "base_uri": "https://localhost:8080/"
        },
        "id": "fj-opholEK4p",
        "outputId": "f13a11d4-a7c0-4986-9ee1-57d4dc17072d"
      },
      "outputs": [
        {
          "output_type": "execute_result",
          "data": {
            "text/plain": [
              "True"
            ]
          },
          "metadata": {},
          "execution_count": 56
        }
      ],
      "source": [
        "a_neutral_number == 3 or my_favorite_number < 0"
      ]
    },
    {
      "cell_type": "code",
      "execution_count": 57,
      "metadata": {
        "colab": {
          "base_uri": "https://localhost:8080/"
        },
        "id": "JGih7dNwEK4q",
        "outputId": "eca3f348-b152-4a47-a51d-36a4a763d85c"
      },
      "outputs": [
        {
          "output_type": "execute_result",
          "data": {
            "text/plain": [
              "False"
            ]
          },
          "metadata": {},
          "execution_count": 57
        }
      ],
      "source": [
        "a_neutral_number != 3 or my_favorite_number < 0"
      ]
    },
    {
      "cell_type": "code",
      "execution_count": 58,
      "metadata": {
        "colab": {
          "base_uri": "https://localhost:8080/"
        },
        "id": "eAWn8sPyEK4r",
        "outputId": "861762bd-f4f7-4534-a4b5-52b2bd847f64"
      },
      "outputs": [
        {
          "output_type": "execute_result",
          "data": {
            "text/plain": [
              "True"
            ]
          },
          "metadata": {},
          "execution_count": 58
        }
      ],
      "source": [
        "my_favorite_number < 0 or True"
      ]
    },
    {
      "cell_type": "code",
      "execution_count": 59,
      "metadata": {
        "colab": {
          "base_uri": "https://localhost:8080/"
        },
        "id": "vJp-nUKjEK4r",
        "outputId": "84b3b121-f6de-45a4-f46e-619356335352"
      },
      "outputs": [
        {
          "output_type": "execute_result",
          "data": {
            "text/plain": [
              "False"
            ]
          },
          "metadata": {},
          "execution_count": 59
        }
      ],
      "source": [
        "False or False"
      ]
    },
    {
      "cell_type": "markdown",
      "metadata": {
        "id": "Rwn-isoGEK4s"
      },
      "source": [
        "The `not` operator returns `False` if a condition is `True` and `True` if the condition is `False`."
      ]
    },
    {
      "cell_type": "code",
      "execution_count": 60,
      "metadata": {
        "colab": {
          "base_uri": "https://localhost:8080/"
        },
        "id": "3rQ8PoEIEK4s",
        "outputId": "1341ac8a-ccaa-4b2d-9e8e-2eb620136112"
      },
      "outputs": [
        {
          "output_type": "execute_result",
          "data": {
            "text/plain": [
              "False"
            ]
          },
          "metadata": {},
          "execution_count": 60
        }
      ],
      "source": [
        "not a_neutral_number == 3"
      ]
    },
    {
      "cell_type": "code",
      "execution_count": 61,
      "metadata": {
        "colab": {
          "base_uri": "https://localhost:8080/"
        },
        "id": "HsMAW-BwEK4s",
        "outputId": "e3040a16-4d61-4454-8f87-cd19897a9dbb"
      },
      "outputs": [
        {
          "output_type": "execute_result",
          "data": {
            "text/plain": [
              "True"
            ]
          },
          "metadata": {},
          "execution_count": 61
        }
      ],
      "source": [
        "not my_favorite_number < 0"
      ]
    },
    {
      "cell_type": "code",
      "execution_count": 62,
      "metadata": {
        "colab": {
          "base_uri": "https://localhost:8080/"
        },
        "id": "TvpXqxAtEK4t",
        "outputId": "e0e96ddb-1751-407e-a659-36911475a444"
      },
      "outputs": [
        {
          "output_type": "execute_result",
          "data": {
            "text/plain": [
              "True"
            ]
          },
          "metadata": {},
          "execution_count": 62
        }
      ],
      "source": [
        "not False"
      ]
    },
    {
      "cell_type": "code",
      "execution_count": 63,
      "metadata": {
        "colab": {
          "base_uri": "https://localhost:8080/"
        },
        "id": "NAfAkjgzEK4t",
        "outputId": "f49860ad-fb50-4d77-c795-e96b04426919"
      },
      "outputs": [
        {
          "output_type": "execute_result",
          "data": {
            "text/plain": [
              "False"
            ]
          },
          "metadata": {},
          "execution_count": 63
        }
      ],
      "source": [
        "not True"
      ]
    },
    {
      "cell_type": "markdown",
      "metadata": {
        "id": "d7xva0u0EK4u"
      },
      "source": [
        "Logical operators can be combined to form complex conditions. Use round brackets or parentheses `(` and `)` to indicate the order in which logical operators should be applied."
      ]
    },
    {
      "cell_type": "code",
      "execution_count": 64,
      "metadata": {
        "colab": {
          "base_uri": "https://localhost:8080/"
        },
        "id": "7cDiBsb9EK4u",
        "outputId": "48f1c641-b5a2-4f40-e8d1-fbccde06860c"
      },
      "outputs": [
        {
          "output_type": "execute_result",
          "data": {
            "text/plain": [
              "True"
            ]
          },
          "metadata": {},
          "execution_count": 64
        }
      ],
      "source": [
        "(2 > 3 and 4 <= 5) or not (my_favorite_number < 0 and True)"
      ]
    },
    {
      "cell_type": "code",
      "execution_count": 65,
      "metadata": {
        "colab": {
          "base_uri": "https://localhost:8080/"
        },
        "id": "oNoDSnpeEK4v",
        "outputId": "3019b990-4e9d-4ffc-ccce-ac3a7e73df55"
      },
      "outputs": [
        {
          "output_type": "execute_result",
          "data": {
            "text/plain": [
              "False"
            ]
          },
          "metadata": {},
          "execution_count": 65
        }
      ],
      "source": [
        "not (True and 0 < 1) or (False and True)"
      ]
    },
    {
      "cell_type": "markdown",
      "metadata": {
        "id": "DBp1VP2nEK4w"
      },
      "source": [
        "If parentheses are not used, logical operators are applied from left to right."
      ]
    },
    {
      "cell_type": "code",
      "execution_count": 66,
      "metadata": {
        "colab": {
          "base_uri": "https://localhost:8080/"
        },
        "id": "A9yW_mH_EK4w",
        "outputId": "ec3fa1da-39d4-4286-f615-07df4cdca852"
      },
      "outputs": [
        {
          "output_type": "execute_result",
          "data": {
            "text/plain": [
              "False"
            ]
          },
          "metadata": {},
          "execution_count": 66
        }
      ],
      "source": [
        "not True and 0 < 1 or False and True"
      ]
    },
    {
      "cell_type": "markdown",
      "metadata": {
        "id": "1IKtolDiEK4x"
      },
      "source": [
        "Experiment with arithmetic, conditional and logical operators in Python using the interactive nature of Jupyter notebooks. We will learn more about variables and functions in future tutorials.\n",
        "\n",
        "There is also a ternary operator in Python. Learn about it here: https://data-flair.training/blogs/python-ternary-operator/"
      ]
    },
    {
      "cell_type": "markdown",
      "metadata": {
        "id": "OZiVXGSuEK4x"
      },
      "source": [
        "## Adding text styles using Markdown\n",
        "\n",
        "Adding explanations using text cells (like this one) is a great way to make your notebook informative for other readers. It is also useful if you need to refer back to it in the future. You can double click on a text cell within Jupyter to edit it. In the edit mode, you'll notice that the text looks slightly different (for instance, the heading has a `##` prefix. This text is written using Markdown, a simple way to add styles to your text. Execute this cell to see the output without the special characters. You can switch back and forth between the source and the output to apply a specific style.\n",
        "\n",
        "For instance, you can use one or more `#` characters at the start of a line to create headers of different sizes:\n",
        "\n",
        "# Header 1\n",
        "\n",
        "## Header 2\n",
        "\n",
        "### Header 3\n",
        "\n",
        "#### Header 4\n",
        "\n",
        "To create a bulleted or numbered list, simply start a line with `*` or `1.`.\n",
        "\n",
        "A bulleted list:\n",
        "\n",
        "* Item 1\n",
        "* Item 2\n",
        "* Item 3\n",
        "\n",
        "A numbered list:\n",
        "\n",
        "1. Apple\n",
        "2. Banana\n",
        "3. Pineapple\n",
        "\n",
        "You can make some text bold using `**`, e.g., **some bold text**, or make it italic using `*`, e.g., *some italic text.* You can also create links, e.g., [a link](https://jovian.ai). Images are easily embedded too:\n",
        "\n",
        "![](https://i.imgur.com/3gjZMYK.png)\n",
        "\n",
        "Another really nice feature of Markdown is the ability to include blocks of code. Note that code blocks inside Markdown cells cannot be executed.\n",
        "\n",
        "```\n",
        "# Perform the required calculations\n",
        "profit_per_bag = cost_of_ice_bag * profit_margin\n",
        "total_profit = number_of_bags * profit_per_bag\n",
        "\n",
        "# Display the result\n",
        "print(\"The grocery store makes a total profit of $\", total_profit)\n",
        "\n",
        "```\n",
        "\n",
        "You can learn the full syntax of Markdown here: https://learnxinyminutes.com/docs/markdown/"
      ]
    },
    {
      "cell_type": "markdown",
      "metadata": {
        "id": "9Fmw8MPkEK4y"
      },
      "source": [
        "## Save and upload your notebook\n",
        "\n",
        "Whether you're running this Jupyter notebook online or on your computer, it's essential to save your work from time to time. You can continue working on a saved notebook later or share it with friends and colleagues to let them execute your code. [Jovian](https://jovian.ai/platform-features) offers an easy way of saving and sharing your Jupyter notebooks online.\n",
        "\n",
        "First, you need to install the Jovian python library if it isn't already installed."
      ]
    },
    {
      "cell_type": "code",
      "execution_count": 67,
      "metadata": {
        "colab": {
          "base_uri": "https://localhost:8080/"
        },
        "id": "4FvVFNqmEK40",
        "outputId": "fc9256c4-817f-4f1d-fc66-a6341edc9d7d"
      },
      "outputs": [
        {
          "output_type": "stream",
          "name": "stdout",
          "text": [
            "\u001b[?25l     \u001b[90m━━━━━━━━━━━━━━━━━━━━━━━━━━━━━━━━━━━━━━━━\u001b[0m \u001b[32m0.0/68.6 KB\u001b[0m \u001b[31m?\u001b[0m eta \u001b[36m-:--:--\u001b[0m\r\u001b[2K     \u001b[90m━━━━━━━━━━━━━━━━━━━━━━━━━━━━━━━━━━━━━━━━\u001b[0m \u001b[32m68.6/68.6 KB\u001b[0m \u001b[31m3.4 MB/s\u001b[0m eta \u001b[36m0:00:00\u001b[0m\n",
            "\u001b[?25h  Preparing metadata (setup.py) ... \u001b[?25l\u001b[?25hdone\n",
            "  Building wheel for uuid (setup.py) ... \u001b[?25l\u001b[?25hdone\n"
          ]
        }
      ],
      "source": [
        "!pip install jovian --upgrade --quiet"
      ]
    },
    {
      "cell_type": "markdown",
      "metadata": {
        "id": "EmJe0va5EK41"
      },
      "source": [
        "Next, the library needs to be imported."
      ]
    },
    {
      "cell_type": "code",
      "execution_count": 68,
      "metadata": {
        "id": "T3Y6-RqrEK41"
      },
      "outputs": [],
      "source": [
        "import jovian"
      ]
    },
    {
      "cell_type": "markdown",
      "metadata": {
        "id": "Tx5y9SKIEK41"
      },
      "source": [
        "Finally, you can run `jovian.commit` to capture and upload a snapshot of the notebook."
      ]
    },
    {
      "cell_type": "code",
      "execution_count": 69,
      "metadata": {
        "colab": {
          "base_uri": "https://localhost:8080/"
        },
        "id": "hS1ukUJFEK42",
        "outputId": "4e3eaaab-411b-45ad-eee7-e3503edc4d24"
      },
      "outputs": [
        {
          "output_type": "stream",
          "name": "stdout",
          "text": [
            "[jovian] Detected Colab notebook...\u001b[0m\n",
            "[jovian] jovian.commit() is no longer required on Google Colab. If you ran this notebook from Jovian, \n",
            "then just save this file in Colab using Ctrl+S/Cmd+S and it will be updated on Jovian. \n",
            "Also, you can also delete this cell, it's no longer necessary.\u001b[0m\n"
          ]
        }
      ],
      "source": [
        "jovian.commit(project='first-steps-with-python')"
      ]
    },
    {
      "cell_type": "markdown",
      "metadata": {
        "id": "QugUzsBWEK42"
      },
      "source": [
        "The first time you run `jovian.commit`, you'll be asked to provide an _API Key_ to securely upload the notebook to your Jovian account. You can get the API key from your [Jovian profile page](https://jovian.ai) after logging in / signing up.\n",
        "\n",
        "<img src=\"https://i.imgur.com/taLLUVd.png\" width=\"480\">\n",
        "\n",
        "`jovian.commit` uploads the notebook to your Jovian account, captures the Python environment, and creates a shareable link for your notebook, as shown above. You can use this link to share your work and let anyone (including you) run your notebooks and reproduce your work. Jovian also includes a powerful commenting interface, so you can discuss & comment on specific parts of your notebook:\n",
        "\n",
        "![https://jovian.ai/docs/user-guide/upload.html](https://i.imgur.com/kxx3pqM.png)\n",
        "\n",
        "You can do a lot more with the `jovian` Python library. Visit the documentation site to learn more: https://jovian.ai/docs/index.html"
      ]
    },
    {
      "cell_type": "markdown",
      "metadata": {
        "id": "D_zqw4DoEK43"
      },
      "source": [
        "## Further Reading and References\n",
        "\n",
        "Following are some resources where you can learn about more arithmetic, conditional and logical operations in Python:\n",
        "\n",
        "* Python Tutorial at W3Schools: https://www.w3schools.com/python/\n",
        "* Practical Python Programming: https://dabeaz-course.github.io/practical-python/Notes/Contents.html\n",
        "* Python official documentation: https://docs.python.org/3/tutorial/index.html\n",
        "\n",
        "Now that you have taken your first steps with Python, you are ready to move on to the next tutorial: [\"A Quick Tour of Variables and Data Types in Python\"](https://jovian.ml/aakashns/python-variables-and-data-types)."
      ]
    },
    {
      "cell_type": "markdown",
      "metadata": {
        "id": "r2_uJB1OEK43"
      },
      "source": [
        "## Questions for Revision\n",
        "\n",
        "Try answering the following questions to test your understanding of the topics covered in this notebook:\n",
        "\n",
        "1. What is a Jupyter notebook? \n",
        "2. How do you add a new code cell below an existing cell?\n",
        "3. How do you add a new Markdown cell below an existing cell?\n",
        "4. How do you convert a code cell to a Markdown cell or vice versa?\n",
        "5. How do you execute a code cell within Jupyter?\n",
        "6. What the different arithmetic operations supported in Python?\n",
        "7. How do you perform arithmetic operations using Python?\n",
        "8. What is the difference between the `/` and the `//` operators?\n",
        "9. What is the difference between the `*` and the `**` operators?\n",
        "10. What is the order of precedence for arithmetic operators in Python?\n",
        "11. How do you specify the order in which arithmetic operations are performed in an expression involving multiple operators?\n",
        "12. How do you solve a multi-step arithmetic word problem using Python?\n",
        "13. What are variables? Why are they useful?\n",
        "14. How do you create a variable in Python?\n",
        "15. What is the assignment operator in Python?\n",
        "16. What are the rules for naming a variable in Python?\n",
        "17. How do you view the value of a variable?\n",
        "18. How do you store the result of an arithmetic expression in a variable?\n",
        "19. What happens if you try to access a variable that has not been defined?\n",
        "20. How do you display messages in Python?\n",
        "21. What type of inputs can the print function accept?\n",
        "22. What are code comments? How are they useful?\n",
        "23. What are the different ways of creating comments in Python code?\n",
        "24. What are the different comparison operations supported in Python?\n",
        "25. What is the result of a comparison operation?\n",
        "26. What is the difference between `=` and `==` in Python?\n",
        "27. What are the logical operators supported in Python?\n",
        "28. What is the difference between the `and` and `or` operators?\n",
        "29. Can you use comparison and logical operators in the same expression?\n",
        "30. What is the purpose of using parentheses in arithmetic or logical expressions?\n",
        "31. What is Markdown? Why is it useful?\n",
        "32. How do you create headings of different sizes using Markdown?\n",
        "33. How do you create bulleted and numbered lists using Markdown?\n",
        "34. How do you create bold or italic text using Markdown?\n",
        "35. How do you include links & images within Markdown cells?\n",
        "36. How do you include code blocks within Markdown cells?\n",
        "37. Is it possible to execute the code blocks within Markdown cells?\n",
        "38. How do you upload and share your Jupyter notebook online using Jovian?\n",
        "39. What is the purpose of the API key requested by jovian.commit ? Where can you find the API key?\n",
        "40. Where can you learn about arithmetic, conditional and logical operations in Python?\n"
      ]
    },
    {
      "cell_type": "markdown",
      "metadata": {
        "id": "vpylsK1DEK44"
      },
      "source": [
        "## Solution for Exercise"
      ]
    },
    {
      "cell_type": "markdown",
      "metadata": {
        "id": "nMKRlVvhEK44"
      },
      "source": [
        "\n",
        "\n",
        "> **EXERCISE**: A travel company wants to fly a plane to the Bahamas. Flying the plane costs 5000 dollars. So far, 29 people have signed up for the trip. If the company charges 200 dollars per ticket, what is the profit made by the company? Create variables for each numeric quantity and use appropriate arithmetic operations."
      ]
    },
    {
      "cell_type": "code",
      "execution_count": 70,
      "metadata": {
        "id": "3fo3aux4EK44"
      },
      "outputs": [],
      "source": [
        "plane_cost=5000\n",
        "total_people_signed_up=29\n",
        "ticket_cost=200"
      ]
    },
    {
      "cell_type": "code",
      "execution_count": 71,
      "metadata": {
        "id": "M9IitVMPEK45"
      },
      "outputs": [],
      "source": [
        "amount_received_by_company=total_people_signed_up*ticket_cost"
      ]
    },
    {
      "cell_type": "code",
      "execution_count": 72,
      "metadata": {
        "id": "Dl_pK2w_EK45"
      },
      "outputs": [],
      "source": [
        "total_profit=amount_received_by_company-plane_cost"
      ]
    },
    {
      "cell_type": "code",
      "execution_count": 73,
      "metadata": {
        "colab": {
          "base_uri": "https://localhost:8080/"
        },
        "id": "l-QvoSfqEK45",
        "outputId": "4b123649-33ae-4b66-94c9-e4a7f66e56d4"
      },
      "outputs": [
        {
          "output_type": "execute_result",
          "data": {
            "text/plain": [
              "800"
            ]
          },
          "metadata": {},
          "execution_count": 73
        }
      ],
      "source": [
        "total_profit"
      ]
    },
    {
      "cell_type": "markdown",
      "metadata": {
        "id": "M4vO-9_eEK46"
      },
      "source": [
        "The travel company is in a profit of $800!"
      ]
    }
  ],
  "metadata": {
    "kernelspec": {
      "display_name": "Python 3",
      "language": "python",
      "name": "python3"
    },
    "language_info": {
      "codemirror_mode": {
        "name": "ipython",
        "version": 3
      },
      "file_extension": ".py",
      "mimetype": "text/x-python",
      "name": "python",
      "nbconvert_exporter": "python",
      "pygments_lexer": "ipython3",
      "version": "3.8.6"
    },
    "colab": {
      "provenance": []
    }
  },
  "nbformat": 4,
  "nbformat_minor": 0
}